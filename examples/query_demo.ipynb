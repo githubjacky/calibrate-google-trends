{
 "cells": [
  {
   "cell_type": "code",
   "execution_count": 1,
   "id": "3ff6efd4-9289-4194-9735-e44bd870c99a",
   "metadata": {
    "execution": {
     "iopub.execute_input": "2024-02-08T09:46:21.551149Z",
     "iopub.status.busy": "2024-02-08T09:46:21.549333Z",
     "iopub.status.idle": "2024-02-08T09:46:23.723880Z",
     "shell.execute_reply": "2024-02-08T09:46:23.723319Z",
     "shell.execute_reply.started": "2024-02-08T09:46:21.551065Z"
    },
    "tags": []
   },
   "outputs": [],
   "source": [
    "import os\n",
    "os.chdir('..')\n",
    "\n",
    "from gtab import BaseTrendSearch"
   ]
  },
  {
   "cell_type": "code",
   "execution_count": 2,
   "id": "323af6ed-762c-43eb-b101-c47faf79ed7c",
   "metadata": {
    "execution": {
     "iopub.execute_input": "2024-02-08T09:46:24.853149Z",
     "iopub.status.busy": "2024-02-08T09:46:24.851749Z",
     "iopub.status.idle": "2024-02-08T09:46:26.907141Z",
     "shell.execute_reply": "2024-02-08T09:46:26.906254Z",
     "shell.execute_reply.started": "2024-02-08T09:46:24.853115Z"
    },
    "tags": []
   },
   "outputs": [
    {
     "name": "stderr",
     "output_type": "stream",
     "text": [
      "\u001b[32m2024-02-08 09:46:24.854\u001b[0m | \u001b[1mINFO    \u001b[0m | \u001b[36mgtab.core\u001b[0m:\u001b[36m__init__\u001b[0m:\u001b[36m83\u001b[0m - \u001b[1mgtab: Using directory 'gtab_config'\u001b[0m\n",
      "\u001b[32m2024-02-08 09:46:25.945\u001b[0m | \u001b[1mINFO    \u001b[0m | \u001b[36mgtab.core\u001b[0m:\u001b[36mset_active_gtab\u001b[0m:\u001b[36m851\u001b[0m - \u001b[1mgtab: Active anchorbank changed to: google_anchorbank_geo=_timeframe=2019-01-01 2020-08-01.tsv\n",
      "\u001b[0m\n",
      "\u001b[32m2024-02-08 09:46:26.900\u001b[0m | \u001b[1mINFO    \u001b[0m | \u001b[36mgtab.core\u001b[0m:\u001b[36mset_active_gtab\u001b[0m:\u001b[36m851\u001b[0m - \u001b[1mgtab: Active anchorbank changed to: google_anchorbank_geo=_timeframe=2016-01-01 2018-07-31.tsv\n",
      "\u001b[0m\n"
     ]
    }
   ],
   "source": [
    "agent = BaseTrendSearch()\n",
    "agent.setup()"
   ]
  },
  {
   "cell_type": "code",
   "execution_count": 6,
   "id": "9b7659b9-057a-49a4-a020-af58124b461f",
   "metadata": {
    "execution": {
     "iopub.execute_input": "2024-02-08T09:46:44.095115Z",
     "iopub.status.busy": "2024-02-08T09:46:44.094676Z",
     "iopub.status.idle": "2024-02-08T09:46:50.204577Z",
     "shell.execute_reply": "2024-02-08T09:46:50.204075Z",
     "shell.execute_reply.started": "2024-02-08T09:46:44.095083Z"
    },
    "tags": []
   },
   "outputs": [
    {
     "name": "stdout",
     "output_type": "stream",
     "text": [
      "bad keywords: []\n"
     ]
    }
   ],
   "source": [
    "agent.calibrate_batch(\n",
    "    ['Sean Hannity'],\n",
    "    'test',\n",
    "    'predator_raw'\n",
    ")"
   ]
  },
  {
   "cell_type": "code",
   "execution_count": 7,
   "id": "54084d7a-fdab-42cd-b1b9-942803da02e8",
   "metadata": {
    "execution": {
     "iopub.execute_input": "2024-02-08T09:46:56.025004Z",
     "iopub.status.busy": "2024-02-08T09:46:56.024275Z",
     "iopub.status.idle": "2024-02-08T09:46:56.054093Z",
     "shell.execute_reply": "2024-02-08T09:46:56.053346Z",
     "shell.execute_reply.started": "2024-02-08T09:46:56.024969Z"
    },
    "tags": []
   },
   "outputs": [
    {
     "data": {
      "text/plain": [
       "135"
      ]
     },
     "execution_count": 7,
     "metadata": {},
     "output_type": "execute_result"
    }
   ],
   "source": [
    "from pymongo import MongoClient\n",
    "\n",
    "client = MongoClient(os.environ['CONN_STR'])\n",
    "collection = client['test']['predator_raw']\n",
    "collection.count_documents({})"
   ]
  },
  {
   "cell_type": "code",
   "execution_count": 5,
   "id": "5e8f3059-64d3-444a-800a-67356d9d2c0e",
   "metadata": {
    "execution": {
     "iopub.execute_input": "2024-02-08T09:30:31.417389Z",
     "iopub.status.busy": "2024-02-08T09:30:31.415725Z",
     "iopub.status.idle": "2024-02-08T09:30:31.434407Z",
     "shell.execute_reply": "2024-02-08T09:30:31.432763Z",
     "shell.execute_reply.started": "2024-02-08T09:30:31.417327Z"
    },
    "tags": []
   },
   "outputs": [
    {
     "data": {
      "text/plain": [
       "[{'_id': ObjectId('65c49f3352bd6b3ddfe69233'),\n",
       "  'year': 2016,\n",
       "  'month': 7,\n",
       "  'name': 'Sean Hannity',\n",
       "  'prefix': '',\n",
       "  'max_ratio': 0.0,\n",
       "  'max_ratio_hi': 0.7452832139818399,\n",
       "  'max_ratio_lo': 0.0},\n",
       " {'_id': ObjectId('65c49f3352bd6b3ddfe69234'),\n",
       "  'year': 2016,\n",
       "  'month': 7,\n",
       "  'name': 'Sean Hannity',\n",
       "  'prefix': '',\n",
       "  'max_ratio': 0.0,\n",
       "  'max_ratio_hi': 0.7452832139818399,\n",
       "  'max_ratio_lo': 0.0},\n",
       " {'_id': ObjectId('65c49f3352bd6b3ddfe69235'),\n",
       "  'year': 2016,\n",
       "  'month': 7,\n",
       "  'name': 'Sean Hannity',\n",
       "  'prefix': '',\n",
       "  'max_ratio': 1.3928585357156789,\n",
       "  'max_ratio_hi': 2.23584964194552,\n",
       "  'max_ratio_lo': 0.6513721036319583},\n",
       " {'_id': ObjectId('65c49f3352bd6b3ddfe69236'),\n",
       "  'year': 2016,\n",
       "  'month': 7,\n",
       "  'name': 'Sean Hannity',\n",
       "  'prefix': '',\n",
       "  'max_ratio': 1.3928585357156789,\n",
       "  'max_ratio_hi': 2.23584964194552,\n",
       "  'max_ratio_lo': 0.6513721036319583},\n",
       " {'_id': ObjectId('65c49f3352bd6b3ddfe69237'),\n",
       "  'year': 2016,\n",
       "  'month': 7,\n",
       "  'name': 'Sean Hannity',\n",
       "  'prefix': '',\n",
       "  'max_ratio': 1.3928585357156789,\n",
       "  'max_ratio_hi': 2.23584964194552,\n",
       "  'max_ratio_lo': 0.6513721036319583},\n",
       " {'_id': ObjectId('65c49f3352bd6b3ddfe69267'),\n",
       "  'year': 2017,\n",
       "  'month': 7,\n",
       "  'name': 'Sean Hannity',\n",
       "  'prefix': '',\n",
       "  'max_ratio': 1.3928585357156789,\n",
       "  'max_ratio_hi': 2.23584964194552,\n",
       "  'max_ratio_lo': 0.6513721036319583},\n",
       " {'_id': ObjectId('65c49f3352bd6b3ddfe69268'),\n",
       "  'year': 2017,\n",
       "  'month': 7,\n",
       "  'name': 'Sean Hannity',\n",
       "  'prefix': '',\n",
       "  'max_ratio': 1.3928585357156789,\n",
       "  'max_ratio_hi': 2.23584964194552,\n",
       "  'max_ratio_lo': 0.6513721036319583},\n",
       " {'_id': ObjectId('65c49f3352bd6b3ddfe69269'),\n",
       "  'year': 2017,\n",
       "  'month': 7,\n",
       "  'name': 'Sean Hannity',\n",
       "  'prefix': '',\n",
       "  'max_ratio': 1.3928585357156789,\n",
       "  'max_ratio_hi': 2.23584964194552,\n",
       "  'max_ratio_lo': 0.6513721036319583},\n",
       " {'_id': ObjectId('65c49f3352bd6b3ddfe6926a'),\n",
       "  'year': 2017,\n",
       "  'month': 7,\n",
       "  'name': 'Sean Hannity',\n",
       "  'prefix': '',\n",
       "  'max_ratio': 1.3928585357156789,\n",
       "  'max_ratio_hi': 2.23584964194552,\n",
       "  'max_ratio_lo': 0.6513721036319583},\n",
       " {'_id': ObjectId('65c49f3352bd6b3ddfe6926b'),\n",
       "  'year': 2017,\n",
       "  'month': 7,\n",
       "  'name': 'Sean Hannity',\n",
       "  'prefix': '',\n",
       "  'max_ratio': 1.3928585357156789,\n",
       "  'max_ratio_hi': 2.23584964194552,\n",
       "  'max_ratio_lo': 0.6513721036319583},\n",
       " {'_id': ObjectId('65c49f3452bd6b3ddfe6929b'),\n",
       "  'year': 2018,\n",
       "  'month': 7,\n",
       "  'name': 'Sean Hannity',\n",
       "  'prefix': '',\n",
       "  'max_ratio': 1.3928585357156789,\n",
       "  'max_ratio_hi': 2.23584964194552,\n",
       "  'max_ratio_lo': 0.6513721036319583},\n",
       " {'_id': ObjectId('65c49f3452bd6b3ddfe6929c'),\n",
       "  'year': 2018,\n",
       "  'month': 7,\n",
       "  'name': 'Sean Hannity',\n",
       "  'prefix': '',\n",
       "  'max_ratio': 1.3928585357156789,\n",
       "  'max_ratio_hi': 2.23584964194552,\n",
       "  'max_ratio_lo': 0.6513721036319583},\n",
       " {'_id': ObjectId('65c49f3452bd6b3ddfe6929d'),\n",
       "  'year': 2018,\n",
       "  'month': 7,\n",
       "  'name': 'Sean Hannity',\n",
       "  'prefix': '',\n",
       "  'max_ratio': 1.3928585357156789,\n",
       "  'max_ratio_hi': 2.23584964194552,\n",
       "  'max_ratio_lo': 0.6513721036319583},\n",
       " {'_id': ObjectId('65c49f3452bd6b3ddfe6929e'),\n",
       "  'year': 2018,\n",
       "  'month': 7,\n",
       "  'name': 'Sean Hannity',\n",
       "  'prefix': '',\n",
       "  'max_ratio': 1.3928585357156789,\n",
       "  'max_ratio_hi': 2.23584964194552,\n",
       "  'max_ratio_lo': 0.6513721036319583},\n",
       " {'_id': ObjectId('65c49f3452bd6b3ddfe6929f'),\n",
       "  'year': 2018,\n",
       "  'month': 7,\n",
       "  'name': 'Sean Hannity',\n",
       "  'prefix': '',\n",
       "  'max_ratio': 1.3928585357156789,\n",
       "  'max_ratio_hi': 2.23584964194552,\n",
       "  'max_ratio_lo': 0.6513721036319583}]"
      ]
     },
     "execution_count": 5,
     "metadata": {},
     "output_type": "execute_result"
    }
   ],
   "source": [
    "documents = [i for i in collection.find({'month': 7})]\n",
    "documents"
   ]
  }
 ],
 "metadata": {
  "kernelspec": {
   "display_name": "Poetry",
   "language": "python",
   "name": "poetry-kernel"
  },
  "language_info": {
   "codemirror_mode": {
    "name": "ipython",
    "version": 3
   },
   "file_extension": ".py",
   "mimetype": "text/x-python",
   "name": "python",
   "nbconvert_exporter": "python",
   "pygments_lexer": "ipython3",
   "version": "3.11.4"
  }
 },
 "nbformat": 4,
 "nbformat_minor": 5
}
