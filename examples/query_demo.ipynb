{
 "cells": [
  {
   "cell_type": "code",
   "execution_count": 1,
   "id": "3ff6efd4-9289-4194-9735-e44bd870c99a",
   "metadata": {
    "execution": {
     "iopub.execute_input": "2024-02-08T14:06:04.480147Z",
     "iopub.status.busy": "2024-02-08T14:06:04.479946Z",
     "iopub.status.idle": "2024-02-08T14:06:06.884515Z",
     "shell.execute_reply": "2024-02-08T14:06:06.884019Z",
     "shell.execute_reply.started": "2024-02-08T14:06:04.480131Z"
    },
    "tags": []
   },
   "outputs": [],
   "source": [
    "import os\n",
    "os.chdir('..')\n",
    "\n",
    "from gtab import BaseTrendSearch"
   ]
  },
  {
   "cell_type": "code",
   "execution_count": 2,
   "id": "323af6ed-762c-43eb-b101-c47faf79ed7c",
   "metadata": {
    "execution": {
     "iopub.execute_input": "2024-02-08T09:46:24.853149Z",
     "iopub.status.busy": "2024-02-08T09:46:24.851749Z",
     "iopub.status.idle": "2024-02-08T09:46:26.907141Z",
     "shell.execute_reply": "2024-02-08T09:46:26.906254Z",
     "shell.execute_reply.started": "2024-02-08T09:46:24.853115Z"
    },
    "tags": []
   },
   "outputs": [
    {
     "name": "stderr",
     "output_type": "stream",
     "text": [
      "\u001b[32m2024-02-08 09:46:24.854\u001b[0m | \u001b[1mINFO    \u001b[0m | \u001b[36mgtab.core\u001b[0m:\u001b[36m__init__\u001b[0m:\u001b[36m83\u001b[0m - \u001b[1mgtab: Using directory 'gtab_config'\u001b[0m\n",
      "\u001b[32m2024-02-08 09:46:25.945\u001b[0m | \u001b[1mINFO    \u001b[0m | \u001b[36mgtab.core\u001b[0m:\u001b[36mset_active_gtab\u001b[0m:\u001b[36m851\u001b[0m - \u001b[1mgtab: Active anchorbank changed to: google_anchorbank_geo=_timeframe=2019-01-01 2020-08-01.tsv\n",
      "\u001b[0m\n",
      "\u001b[32m2024-02-08 09:46:26.900\u001b[0m | \u001b[1mINFO    \u001b[0m | \u001b[36mgtab.core\u001b[0m:\u001b[36mset_active_gtab\u001b[0m:\u001b[36m851\u001b[0m - \u001b[1mgtab: Active anchorbank changed to: google_anchorbank_geo=_timeframe=2016-01-01 2018-07-31.tsv\n",
      "\u001b[0m\n"
     ]
    }
   ],
   "source": [
    "agent = BaseTrendSearch()\n",
    "agent.setup()"
   ]
  },
  {
   "cell_type": "code",
   "execution_count": 6,
   "id": "9b7659b9-057a-49a4-a020-af58124b461f",
   "metadata": {
    "execution": {
     "iopub.execute_input": "2024-02-08T09:46:44.095115Z",
     "iopub.status.busy": "2024-02-08T09:46:44.094676Z",
     "iopub.status.idle": "2024-02-08T09:46:50.204577Z",
     "shell.execute_reply": "2024-02-08T09:46:50.204075Z",
     "shell.execute_reply.started": "2024-02-08T09:46:44.095083Z"
    },
    "tags": []
   },
   "outputs": [
    {
     "name": "stdout",
     "output_type": "stream",
     "text": [
      "bad keywords: []\n"
     ]
    }
   ],
   "source": [
    "agent.calibrate_batch(\n",
    "    ['Barack Obama'],\n",
    "    'test',\n",
    "    'test'\n",
    ")"
   ]
  },
  {
   "cell_type": "code",
   "execution_count": 5,
   "id": "54084d7a-fdab-42cd-b1b9-942803da02e8",
   "metadata": {
    "execution": {
     "iopub.execute_input": "2024-02-08T14:06:58.530002Z",
     "iopub.status.busy": "2024-02-08T14:06:58.529265Z",
     "iopub.status.idle": "2024-02-08T14:06:58.557742Z",
     "shell.execute_reply": "2024-02-08T14:06:58.557110Z",
     "shell.execute_reply.started": "2024-02-08T14:06:58.529975Z"
    },
    "tags": []
   },
   "outputs": [
    {
     "data": {
      "text/plain": [
       "135"
      ]
     },
     "execution_count": 5,
     "metadata": {},
     "output_type": "execute_result"
    }
   ],
   "source": [
    "from pymongo import MongoClient\n",
    "\n",
    "client = MongoClient(os.environ['CONN_STR'])\n",
    "collection = client['test']['test']\n",
    "collection.count_documents({})"
   ]
  },
  {
   "cell_type": "code",
   "execution_count": 6,
   "id": "5e8f3059-64d3-444a-800a-67356d9d2c0e",
   "metadata": {
    "execution": {
     "iopub.execute_input": "2024-02-08T14:07:04.214674Z",
     "iopub.status.busy": "2024-02-08T14:07:04.214308Z",
     "iopub.status.idle": "2024-02-08T14:07:04.227419Z",
     "shell.execute_reply": "2024-02-08T14:07:04.226582Z",
     "shell.execute_reply.started": "2024-02-08T14:07:04.214646Z"
    },
    "tags": []
   },
   "outputs": [
    {
     "data": {
      "text/plain": [
       "[{'_id': ObjectId('65c4ab6d1106e994020f7876'),\n",
       "  'year': 2016,\n",
       "  'month': 7,\n",
       "  'name': 'Barack Obama',\n",
       "  'prefix': '',\n",
       "  'max_ratio': 5.22909283187588,\n",
       "  'max_ratio_hi': 6.583171089073585,\n",
       "  'max_ratio_lo': 4.0433471376489845},\n",
       " {'_id': ObjectId('65c4ab6d1106e994020f7877'),\n",
       "  'year': 2016,\n",
       "  'month': 7,\n",
       "  'name': 'Barack Obama',\n",
       "  'prefix': '',\n",
       "  'max_ratio': 5.22909283187588,\n",
       "  'max_ratio_hi': 6.583171089073585,\n",
       "  'max_ratio_lo': 4.0433471376489845},\n",
       " {'_id': ObjectId('65c4ab6d1106e994020f7878'),\n",
       "  'year': 2016,\n",
       "  'month': 7,\n",
       "  'name': 'Barack Obama',\n",
       "  'prefix': '',\n",
       "  'max_ratio': 6.972123775834507,\n",
       "  'max_ratio_hi': 8.46407711452318,\n",
       "  'max_ratio_lo': 5.660685992708578},\n",
       " {'_id': ObjectId('65c4ab6d1106e994020f7879'),\n",
       "  'year': 2016,\n",
       "  'month': 7,\n",
       "  'name': 'Barack Obama',\n",
       "  'prefix': '',\n",
       "  'max_ratio': 12.201216607710387,\n",
       "  'max_ratio_hi': 14.106795190871965,\n",
       "  'max_ratio_lo': 10.512702557887359},\n",
       " {'_id': ObjectId('65c4ab6d1106e994020f787a'),\n",
       "  'year': 2016,\n",
       "  'month': 7,\n",
       "  'name': 'Barack Obama',\n",
       "  'prefix': '',\n",
       "  'max_ratio': 8.715154719793134,\n",
       "  'max_ratio_hi': 10.344983139972776,\n",
       "  'max_ratio_lo': 7.2780248477681715},\n",
       " {'_id': ObjectId('65c4ab6d1106e994020f78aa'),\n",
       "  'year': 2017,\n",
       "  'month': 7,\n",
       "  'name': 'Barack Obama',\n",
       "  'prefix': '',\n",
       "  'max_ratio': 3.4860618879172534,\n",
       "  'max_ratio_hi': 4.702265063623989,\n",
       "  'max_ratio_lo': 2.4260082825893905},\n",
       " {'_id': ObjectId('65c4ab6d1106e994020f78ab'),\n",
       "  'year': 2017,\n",
       "  'month': 7,\n",
       "  'name': 'Barack Obama',\n",
       "  'prefix': '',\n",
       "  'max_ratio': 1.7430309439586267,\n",
       "  'max_ratio_hi': 2.821359038174393,\n",
       "  'max_ratio_lo': 0.8086694275297969},\n",
       " {'_id': ObjectId('65c4ab6d1106e994020f78ac'),\n",
       "  'year': 2017,\n",
       "  'month': 7,\n",
       "  'name': 'Barack Obama',\n",
       "  'prefix': '',\n",
       "  'max_ratio': 1.7430309439586267,\n",
       "  'max_ratio_hi': 2.821359038174393,\n",
       "  'max_ratio_lo': 0.8086694275297969},\n",
       " {'_id': ObjectId('65c4ab6d1106e994020f78ad'),\n",
       "  'year': 2017,\n",
       "  'month': 7,\n",
       "  'name': 'Barack Obama',\n",
       "  'prefix': '',\n",
       "  'max_ratio': 3.4860618879172534,\n",
       "  'max_ratio_hi': 4.702265063623989,\n",
       "  'max_ratio_lo': 2.4260082825893905},\n",
       " {'_id': ObjectId('65c4ab6d1106e994020f78ae'),\n",
       "  'year': 2017,\n",
       "  'month': 7,\n",
       "  'name': 'Barack Obama',\n",
       "  'prefix': '',\n",
       "  'max_ratio': 5.22909283187588,\n",
       "  'max_ratio_hi': 6.583171089073585,\n",
       "  'max_ratio_lo': 4.0433471376489845},\n",
       " {'_id': ObjectId('65c4ab6d1106e994020f78de'),\n",
       "  'year': 2018,\n",
       "  'month': 7,\n",
       "  'name': 'Barack Obama',\n",
       "  'prefix': '',\n",
       "  'max_ratio': 1.7430309439586267,\n",
       "  'max_ratio_hi': 2.821359038174393,\n",
       "  'max_ratio_lo': 0.8086694275297969},\n",
       " {'_id': ObjectId('65c4ab6d1106e994020f78df'),\n",
       "  'year': 2018,\n",
       "  'month': 7,\n",
       "  'name': 'Barack Obama',\n",
       "  'prefix': '',\n",
       "  'max_ratio': 1.7430309439586267,\n",
       "  'max_ratio_hi': 2.821359038174393,\n",
       "  'max_ratio_lo': 0.8086694275297969},\n",
       " {'_id': ObjectId('65c4ab6d1106e994020f78e0'),\n",
       "  'year': 2018,\n",
       "  'month': 7,\n",
       "  'name': 'Barack Obama',\n",
       "  'prefix': '',\n",
       "  'max_ratio': 3.4860618879172534,\n",
       "  'max_ratio_hi': 4.702265063623989,\n",
       "  'max_ratio_lo': 2.4260082825893905},\n",
       " {'_id': ObjectId('65c4ab6d1106e994020f78e1'),\n",
       "  'year': 2018,\n",
       "  'month': 7,\n",
       "  'name': 'Barack Obama',\n",
       "  'prefix': '',\n",
       "  'max_ratio': 1.7430309439586267,\n",
       "  'max_ratio_hi': 2.821359038174393,\n",
       "  'max_ratio_lo': 0.8086694275297969},\n",
       " {'_id': ObjectId('65c4ab6d1106e994020f78e2'),\n",
       "  'year': 2018,\n",
       "  'month': 7,\n",
       "  'name': 'Barack Obama',\n",
       "  'prefix': '',\n",
       "  'max_ratio': 3.4860618879172534,\n",
       "  'max_ratio_hi': 4.702265063623989,\n",
       "  'max_ratio_lo': 2.4260082825893905}]"
      ]
     },
     "execution_count": 6,
     "metadata": {},
     "output_type": "execute_result"
    }
   ],
   "source": [
    "documents = [i for i in collection.find({'month': 7})]\n",
    "documents"
   ]
  }
 ],
 "metadata": {
  "kernelspec": {
   "display_name": "Python 3 (ipykernel)",
   "language": "python",
   "name": "python3"
  },
  "language_info": {
   "codemirror_mode": {
    "name": "ipython",
    "version": 3
   },
   "file_extension": ".py",
   "mimetype": "text/x-python",
   "name": "python",
   "nbconvert_exporter": "python",
   "pygments_lexer": "ipython3",
   "version": "3.11.4"
  }
 },
 "nbformat": 4,
 "nbformat_minor": 5
}
